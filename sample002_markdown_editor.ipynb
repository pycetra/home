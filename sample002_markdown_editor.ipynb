{
 "cells": [
  {
   "cell_type": "code",
   "execution_count": 1,
   "id": "0d47a492",
   "metadata": {},
   "outputs": [],
   "source": [
    "!pip install pandas networkx\n",
    "!pip install git+https://github.com/pycetra/pycetramd.git"
   ]
  },
  {
   "cell_type": "code",
   "execution_count": 2,
   "id": "cda6d596",
   "metadata": {},
   "outputs": [],
   "source": [
    "import json\n",
    "import pandas as pd\n",
    "from IPython.display import HTML\n",
    "from pycetramd import graph2md\n",
    "from pycetramd import md2graph, graph2md\n"
   ]
  },
  {
   "cell_type": "code",
   "execution_count": 3,
   "id": "3b449b5c",
   "metadata": {},
   "outputs": [
    {
     "data": {
      "text/html": [
       "\n",
       "<script>\n",
       "function js2py(e){\n",
       "    console.log(\"js2py\");\n",
       "    if(typeof(e.data.message)!==\"undefined\" && \"node_feature\" in JSON.parse(e.data.message)){\n",
       "        console.log(\"child2parent\");\n",
       "        console.log(e.data.message);\n",
       "        console.log(e.data.height);\n",
       "        console.log(e.data.width);\n",
       "        IPython.notebook.kernel.execute(`graph_json='`+String(e.data.message)+`'`);\n",
       "    }\n",
       "}\n",
       "\n",
       "if(window.addEventListener){\n",
       "    addEventListener('message', js2py, false);\n",
       "}\n",
       "</script>\n"
      ],
      "text/plain": [
       "<IPython.core.display.HTML object>"
      ]
     },
     "execution_count": 3,
     "metadata": {},
     "output_type": "execute_result"
    }
   ],
   "source": [
    "\n",
    "HTML(\"\"\"\n",
    "<script>\n",
    "function js2py(e){\n",
    "    console.log(\"js2py\");\n",
    "    if(typeof(e.data.message)!==\"undefined\" && \"node_feature\" in JSON.parse(e.data.message)){\n",
    "        console.log(\"child2parent\");\n",
    "        console.log(e.data.message);\n",
    "        console.log(e.data.height);\n",
    "        console.log(e.data.width);\n",
    "        IPython.notebook.kernel.execute(`graph_json='`+String(e.data.message)+`'`);\n",
    "    }\n",
    "}\n",
    "\n",
    "if(window.addEventListener){\n",
    "    addEventListener('message', js2py, false);\n",
    "}\n",
    "</script>\n",
    "\"\"\")"
   ]
  },
  {
   "cell_type": "markdown",
   "id": "95e6e247",
   "metadata": {},
   "source": [
    "## to iframe"
   ]
  },
  {
   "cell_type": "code",
   "execution_count": 4,
   "id": "8df145e2",
   "metadata": {},
   "outputs": [
    {
     "data": {
      "text/html": [
       " \n",
       "<script>\n",
       "var iframe = document.querySelector('iframe').contentWindow;\n",
       "iframe.postMessage({\n",
       "  message: `{\"node_feature\": {\"id\": [1001, 1002, 1003, 1004, 1005], \"text\": [\"aaa\", \"node1002\", \"node1003\", \"node1004\", \"node1005\"], \"level\": [0, 0, 1, 2, 3], \"sortkey\": [0, 1, 0, 0, 0], \"x\": [0.0, 0.0, 0.0, 0.0, 0.0], \"y\": [0.0, 0.0, 0.0, 0.0, 0.0], \"selecter\": [0, 0, 0, 0, 0], \"region\": [\"\", \"\", \"\", \"\", \"\"], \"stylecls\": [[\"\", \"\"], [\"\", \"\"], [\"\", \"\"], [\"\", \"\"], [\"\", \"\"]], \"position\": [[0], [0], [0], [0], [0]]}, \"link_feature\": {\"id\": [2000, 2001, 2002], \"from\": [1002, 1003, 1004], \"to\": [1003, 1004, 1005], \"x_from\": [0.0, 0.0, 0.0], \"y_from\": [0.0, 0.0, 0.0], \"x_to\": [0.0, 0.0, 0.0], \"y_to\": [0.0, 0.0, 0.0], \"selecter\": [0, 0, 0], \"region\": [\"\", \"\", \"\"], \"stylecls\": [[\"\"], [\"\"], [\"\"]]}}`,\n",
       "}, '*', );\n",
       "</script>\n"
      ],
      "text/plain": [
       "<IPython.core.display.HTML object>"
      ]
     },
     "metadata": {},
     "output_type": "display_data"
    }
   ],
   "source": [
    "\n",
    "md = \"\"\"\n",
    "- aaa\n",
    "- node1002\n",
    "  - node1003\n",
    "    - node1004\n",
    "      - node1005\n",
    "\"\"\"\n",
    "\n",
    "link_f,node_f = md2graph.main(md)\n",
    "node_f = pd.DataFrame(node_f)\n",
    "link_f = pd.DataFrame(link_f)\n",
    "\n",
    "js_string = json.dumps({'node_feature':node_f.to_dict('list'),\n",
    "      'link_feature':link_f.to_dict('list')})\n",
    "display(HTML(\"\"\" \n",
    "<script>\n",
    "var iframe = document.querySelector('iframe').contentWindow;\n",
    "iframe.postMessage({\n",
    "  message: `%(input_for_js)s`,\n",
    "}, '*', );\n",
    "</script>\n",
    "\"\"\"%{\"input_for_js\":js_string}))"
   ]
  },
  {
   "cell_type": "markdown",
   "id": "b8a19e93",
   "metadata": {},
   "source": [
    "# iframe"
   ]
  },
  {
   "cell_type": "code",
   "execution_count": 5,
   "id": "b9f91a39",
   "metadata": {},
   "outputs": [
    {
     "data": {
      "text/html": [
       "\n",
       "<iframe src=\"https://pycetra.com/raw/?graph=%7B%22node_feature%22%3A%20%7B%22id%22%3A%20%5B1001%2C%201002%5D%2C%20%22text%22%3A%20%5B%22node1001%22%2C%20%22node1002%22%5D%2C%20%22level%22%3A%20%5B0%2C%201%5D%2C%20%22sortkey%22%3A%20%5B0%2C%200%5D%2C%20%22x%22%3A%20%5B100.0%2C%20150.0%5D%2C%20%22y%22%3A%20%5B100.0%2C%20125.0%5D%2C%20%22selecter%22%3A%20%5B0%2C%201%5D%2C%20%22region%22%3A%20%5B%22%22%2C%20%22%22%5D%2C%20%22stylecls%22%3A%20%5B%5B%22%22%5D%2C%20%5B%22%22%5D%5D%2C%20%22position%22%3A%20%5B%5B0%5D%2C%20%5B0%5D%5D%7D%2C%20%22link_feature%22%3A%20%7B%22id%22%3A%20%5B2000%5D%2C%20%22from%22%3A%20%5B1001%5D%2C%20%22to%22%3A%20%5B1002%5D%2C%20%22x_from%22%3A%20%5B100.0%5D%2C%20%22y_from%22%3A%20%5B100.0%5D%2C%20%22x_to%22%3A%20%5B150.0%5D%2C%20%22y_to%22%3A%20%5B125.0%5D%2C%20%22selecter%22%3A%20%5B0%5D%2C%20%22region%22%3A%20%5B%22%22%5D%2C%20%22stylecls%22%3A%20%5B%5B%22%22%5D%5D%7D%7D\" width=\"600\" height=\"400\"></iframe>\n"
      ],
      "text/plain": [
       "<IPython.core.display.HTML object>"
      ]
     },
     "metadata": {},
     "output_type": "display_data"
    }
   ],
   "source": [
    "\n",
    "uri = \"https://pycetra.com/raw/?graph=%7B%22node_feature%22%3A%20%7B%22id%22%3A%20%5B1001%2C%201002%5D%2C%20%22text%22%3A%20%5B%22node1001%22%2C%20%22node1002%22%5D%2C%20%22level%22%3A%20%5B0%2C%201%5D%2C%20%22sortkey%22%3A%20%5B0%2C%200%5D%2C%20%22x%22%3A%20%5B100.0%2C%20150.0%5D%2C%20%22y%22%3A%20%5B100.0%2C%20125.0%5D%2C%20%22selecter%22%3A%20%5B0%2C%201%5D%2C%20%22region%22%3A%20%5B%22%22%2C%20%22%22%5D%2C%20%22stylecls%22%3A%20%5B%5B%22%22%5D%2C%20%5B%22%22%5D%5D%2C%20%22position%22%3A%20%5B%5B0%5D%2C%20%5B0%5D%5D%7D%2C%20%22link_feature%22%3A%20%7B%22id%22%3A%20%5B2000%5D%2C%20%22from%22%3A%20%5B1001%5D%2C%20%22to%22%3A%20%5B1002%5D%2C%20%22x_from%22%3A%20%5B100.0%5D%2C%20%22y_from%22%3A%20%5B100.0%5D%2C%20%22x_to%22%3A%20%5B150.0%5D%2C%20%22y_to%22%3A%20%5B125.0%5D%2C%20%22selecter%22%3A%20%5B0%5D%2C%20%22region%22%3A%20%5B%22%22%5D%2C%20%22stylecls%22%3A%20%5B%5B%22%22%5D%5D%7D%7D\"\n",
    "display(HTML(\"\"\"\n",
    "<iframe src=\"%(uri)s\" width=\"600\" height=\"400\"></iframe>\n",
    "\"\"\" % {\"uri\":uri}))\n"
   ]
  },
  {
   "cell_type": "markdown",
   "id": "32f5f847",
   "metadata": {},
   "source": [
    "# to md"
   ]
  },
  {
   "cell_type": "code",
   "execution_count": 6,
   "id": "7059478e",
   "metadata": {},
   "outputs": [
    {
     "data": {
      "text/html": [
       "<div>\n",
       "<style scoped>\n",
       "    .dataframe tbody tr th:only-of-type {\n",
       "        vertical-align: middle;\n",
       "    }\n",
       "\n",
       "    .dataframe tbody tr th {\n",
       "        vertical-align: top;\n",
       "    }\n",
       "\n",
       "    .dataframe thead th {\n",
       "        text-align: right;\n",
       "    }\n",
       "</style>\n",
       "<table border=\"1\" class=\"dataframe\">\n",
       "  <thead>\n",
       "    <tr style=\"text-align: right;\">\n",
       "      <th></th>\n",
       "      <th>id</th>\n",
       "      <th>text</th>\n",
       "      <th>level</th>\n",
       "      <th>sortkey</th>\n",
       "      <th>x</th>\n",
       "      <th>y</th>\n",
       "      <th>selecter</th>\n",
       "      <th>region</th>\n",
       "      <th>stylecls</th>\n",
       "      <th>position</th>\n",
       "    </tr>\n",
       "  </thead>\n",
       "  <tbody>\n",
       "    <tr>\n",
       "      <th>0</th>\n",
       "      <td>1001</td>\n",
       "      <td>node1001</td>\n",
       "      <td>0</td>\n",
       "      <td>0</td>\n",
       "      <td>100.0</td>\n",
       "      <td>100.0</td>\n",
       "      <td>0</td>\n",
       "      <td></td>\n",
       "      <td>[]</td>\n",
       "      <td>[0]</td>\n",
       "    </tr>\n",
       "    <tr>\n",
       "      <th>1</th>\n",
       "      <td>1002</td>\n",
       "      <td>node1002</td>\n",
       "      <td>1</td>\n",
       "      <td>0</td>\n",
       "      <td>150.0</td>\n",
       "      <td>125.0</td>\n",
       "      <td>1</td>\n",
       "      <td></td>\n",
       "      <td>[]</td>\n",
       "      <td>[0]</td>\n",
       "    </tr>\n",
       "  </tbody>\n",
       "</table>\n",
       "</div>"
      ],
      "text/plain": [
       "     id      text  level  sortkey      x      y  selecter region stylecls  \\\n",
       "0  1001  node1001      0        0  100.0  100.0         0              []   \n",
       "1  1002  node1002      1        0  150.0  125.0         1              []   \n",
       "\n",
       "  position  \n",
       "0      [0]  \n",
       "1      [0]  "
      ]
     },
     "metadata": {},
     "output_type": "display_data"
    },
    {
     "data": {
      "text/html": [
       "<div>\n",
       "<style scoped>\n",
       "    .dataframe tbody tr th:only-of-type {\n",
       "        vertical-align: middle;\n",
       "    }\n",
       "\n",
       "    .dataframe tbody tr th {\n",
       "        vertical-align: top;\n",
       "    }\n",
       "\n",
       "    .dataframe thead th {\n",
       "        text-align: right;\n",
       "    }\n",
       "</style>\n",
       "<table border=\"1\" class=\"dataframe\">\n",
       "  <thead>\n",
       "    <tr style=\"text-align: right;\">\n",
       "      <th></th>\n",
       "      <th>id</th>\n",
       "      <th>from</th>\n",
       "      <th>to</th>\n",
       "      <th>x_from</th>\n",
       "      <th>y_from</th>\n",
       "      <th>x_to</th>\n",
       "      <th>y_to</th>\n",
       "      <th>selecter</th>\n",
       "      <th>region</th>\n",
       "      <th>stylecls</th>\n",
       "    </tr>\n",
       "  </thead>\n",
       "  <tbody>\n",
       "    <tr>\n",
       "      <th>0</th>\n",
       "      <td>2000</td>\n",
       "      <td>1001</td>\n",
       "      <td>1002</td>\n",
       "      <td>100.0</td>\n",
       "      <td>100.0</td>\n",
       "      <td>150.0</td>\n",
       "      <td>125.0</td>\n",
       "      <td>0</td>\n",
       "      <td></td>\n",
       "      <td>[]</td>\n",
       "    </tr>\n",
       "  </tbody>\n",
       "</table>\n",
       "</div>"
      ],
      "text/plain": [
       "     id  from    to  x_from  y_from   x_to   y_to  selecter region stylecls\n",
       "0  2000  1001  1002   100.0   100.0  150.0  125.0         0              []"
      ]
     },
     "metadata": {},
     "output_type": "display_data"
    },
    {
     "name": "stdout",
     "output_type": "stream",
     "text": [
      "- node1001\n",
      "  - node1002\n",
      "\n"
     ]
    }
   ],
   "source": [
    "\n",
    "node_f = pd.DataFrame(json.loads(graph_json)['node_feature'])\n",
    "link_f = pd.DataFrame(json.loads(graph_json)['link_feature'])\n",
    "\n",
    "display(node_f)\n",
    "display(link_f)\n",
    "\n",
    "import warnings\n",
    "warnings.simplefilter('ignore')\n",
    "print(graph2md.main(link_f,node_f))\n",
    "\n"
   ]
  },
  {
   "cell_type": "code",
   "execution_count": null,
   "id": "f0574947",
   "metadata": {},
   "outputs": [],
   "source": []
  }
 ],
 "metadata": {
  "hide_input": false,
  "kernelspec": {
   "display_name": "Python 3 (ipykernel)",
   "language": "python",
   "name": "python3"
  },
  "language_info": {
   "codemirror_mode": {
    "name": "ipython",
    "version": 3
   },
   "file_extension": ".py",
   "mimetype": "text/x-python",
   "name": "python",
   "nbconvert_exporter": "python",
   "pygments_lexer": "ipython3",
   "version": "3.10.5"
  },
  "toc": {
   "base_numbering": 1,
   "nav_menu": {},
   "number_sections": true,
   "sideBar": true,
   "skip_h1_title": false,
   "title_cell": "Table of Contents",
   "title_sidebar": "Contents",
   "toc_cell": false,
   "toc_position": {},
   "toc_section_display": true,
   "toc_window_display": true
  }
 },
 "nbformat": 4,
 "nbformat_minor": 5
}
