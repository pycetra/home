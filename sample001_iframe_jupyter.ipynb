{
 "cells": [
  {
   "cell_type": "markdown",
   "id": "043bf9b7",
   "metadata": {},
   "source": [
    "# Run GUI"
   ]
  },
  {
   "cell_type": "code",
   "execution_count": null,
   "id": "4dcda4b8",
   "metadata": {},
   "outputs": [],
   "source": [
    "from IPython.display import HTML\n",
    "uri = \"https://pycetra.com/raw/?graph=%7B%22node_feature%22%3A%20%7B%22id%22%3A%20%5B1001%2C%201002%5D%2C%20%22text%22%3A%20%5B%22node1001%22%2C%20%22node1002%22%5D%2C%20%22level%22%3A%20%5B0%2C%201%5D%2C%20%22sortkey%22%3A%20%5B0%2C%200%5D%2C%20%22x%22%3A%20%5B100.0%2C%20150.0%5D%2C%20%22y%22%3A%20%5B100.0%2C%20125.0%5D%2C%20%22selecter%22%3A%20%5B0%2C%201%5D%2C%20%22region%22%3A%20%5B%22%22%2C%20%22%22%5D%2C%20%22stylecls%22%3A%20%5B%5B%22%22%5D%2C%20%5B%22%22%5D%5D%2C%20%22position%22%3A%20%5B%5B0%5D%2C%20%5B0%5D%5D%7D%2C%20%22link_feature%22%3A%20%7B%22id%22%3A%20%5B2000%5D%2C%20%22from%22%3A%20%5B1001%5D%2C%20%22to%22%3A%20%5B1002%5D%2C%20%22x_from%22%3A%20%5B100.0%5D%2C%20%22y_from%22%3A%20%5B100.0%5D%2C%20%22x_to%22%3A%20%5B150.0%5D%2C%20%22y_to%22%3A%20%5B125.0%5D%2C%20%22selecter%22%3A%20%5B0%5D%2C%20%22region%22%3A%20%5B%22%22%5D%2C%20%22stylecls%22%3A%20%5B%5B%22%22%5D%5D%7D%7D\"\n",
    "display(HTML(\"\"\"\n",
    "<iframe src=\"%(uri)s\" width=\"600\" height=\"400\"></iframe>\n",
    "\"\"\" % {\"uri\":uri}))"
   ]
  },
  {
   "cell_type": "code",
   "execution_count": null,
   "id": "758023d2",
   "metadata": {},
   "outputs": [],
   "source": [
    "# !! Warning !! This process (\"IPython.notebook.kernel.execute\") is for running python processes from javascript.\n",
    "# !! Warning !! Make sure it is a trusted code or website as it can be dangerous.\n",
    "\n",
    "# !! Warning !! この関数(\"IPython.notebook.kernel.execute\")は javascriptからpythonの処理を実行できます。\n",
    "# !! Warning !! 危険を伴うため信頼できるコードやwebサイト上であることを確認すること\n",
    "\n",
    "HTML(\"\"\"\n",
    "<script>\n",
    "function js2py(e){\n",
    "    console.log(\"js2py\");\n",
    "    if(typeof(e.data.message)!==\"undefined\" && \"node_feature\" in JSON.parse(e.data.message)){\n",
    "        console.log(\"child2parent\");\n",
    "        console.log(e.data.message);\n",
    "        console.log(e.data.height);\n",
    "        console.log(e.data.width);\n",
    "        IPython.notebook.kernel.execute(`graph_json='`+String(e.data.message)+`'`);\n",
    "    }\n",
    "}\n",
    "\n",
    "if(window.addEventListener){\n",
    "    addEventListener('message', js2py, false);\n",
    "}\n",
    "</script>\n",
    "\"\"\")"
   ]
  },
  {
   "cell_type": "markdown",
   "id": "d5bb79c9",
   "metadata": {},
   "source": [
    "# Initialize  GUI"
   ]
  },
  {
   "cell_type": "code",
   "execution_count": null,
   "id": "408dcaa1",
   "metadata": {},
   "outputs": [],
   "source": [
    "input_for_js = \"\"\"\n",
    "{\"node_feature\": {\"id\": [1001], \"text\": [\"hello world!\"], \"level\": [0], \"sortkey\": [0], \"x\": [100.0], \"y\": [100.0], \"selecter\": [1], \"region\": [\"\"], \"stylecls\": [[\"\"]], \"position\": [[0]]}, \n",
    "\"link_feature\": {\"id\": [], \"from\": [], \"to\": [], \"x_from\": [], \"y_from\": [], \"x_to\": [], \"y_to\": [], \"selecter\": [], \"region\": [], \"stylecls\": []}}\n",
    "\"\"\".replace(\"\\n\",\"\")\n",
    "\n",
    "display(HTML(\"\"\" \n",
    "<script>\n",
    "var iframe = document.querySelector('iframe').contentWindow;\n",
    "iframe.postMessage({\n",
    "  message: `%(input_for_js)s`,\n",
    "}, '*', );\n",
    "</script>\n",
    "\"\"\"%{\"input_for_js\":input_for_js}))"
   ]
  },
  {
   "cell_type": "markdown",
   "id": "af4ce1c5",
   "metadata": {},
   "source": [
    "# to pandas"
   ]
  },
  {
   "cell_type": "code",
   "execution_count": null,
   "id": "51df0495",
   "metadata": {},
   "outputs": [],
   "source": [
    "!pip install pandas networkx\n",
    "!pip install git+https://github.com/pycetra/pycetramd.git"
   ]
  },
  {
   "cell_type": "code",
   "execution_count": null,
   "id": "6f50aa2d",
   "metadata": {
    "scrolled": false
   },
   "outputs": [],
   "source": [
    "import json\n",
    "import pandas as pd\n",
    "node_f = pd.DataFrame(json.loads(graph_json)['node_feature'])\n",
    "link_f = pd.DataFrame(json.loads(graph_json)['link_feature'])\n",
    "\n",
    "display(node_f)\n",
    "display(link_f)"
   ]
  },
  {
   "cell_type": "code",
   "execution_count": null,
   "id": "d7b3a0eb",
   "metadata": {},
   "outputs": [],
   "source": [
    "import urllib.parse\n",
    "js_string = json.dumps({'node_feature':node_f.to_dict('list'),\n",
    "      'link_feature':link_f.to_dict('list')})\n",
    "base = \"https://pycetra.com/raw/?graph=\"\n",
    "uri = base + urllib.parse.quote(js_string,safe=\"\")\n",
    "print(uri)"
   ]
  },
  {
   "cell_type": "code",
   "execution_count": null,
   "id": "3021b5c6",
   "metadata": {},
   "outputs": [],
   "source": [
    "display(HTML(\"\"\"\n",
    "<iframe src=\"%(uri)s\" width=\"600\" height=\"400\"></iframe>\n",
    "\"\"\"%{\"uri\":uri}))"
   ]
  },
  {
   "cell_type": "code",
   "execution_count": null,
   "id": "427ddda5",
   "metadata": {},
   "outputs": [],
   "source": [
    "assert input_for_js == js_string"
   ]
  },
  {
   "cell_type": "markdown",
   "id": "c7bd680f",
   "metadata": {},
   "source": [
    "# to markdown"
   ]
  },
  {
   "cell_type": "code",
   "execution_count": null,
   "id": "40a26620",
   "metadata": {},
   "outputs": [],
   "source": [
    "from pycetramd import graph2md\n",
    "print(graph2md.main(link_f,node_f))"
   ]
  },
  {
   "cell_type": "code",
   "execution_count": null,
   "id": "5007cb3e",
   "metadata": {},
   "outputs": [],
   "source": []
  }
 ],
 "metadata": {
  "hide_input": false,
  "kernelspec": {
   "display_name": "Python 3 (ipykernel)",
   "language": "python",
   "name": "python3"
  },
  "language_info": {
   "codemirror_mode": {
    "name": "ipython",
    "version": 3
   },
   "file_extension": ".py",
   "mimetype": "text/x-python",
   "name": "python",
   "nbconvert_exporter": "python",
   "pygments_lexer": "ipython3",
   "version": "3.9.12"
  },
  "toc": {
   "base_numbering": 1,
   "nav_menu": {},
   "number_sections": true,
   "sideBar": true,
   "skip_h1_title": false,
   "title_cell": "Table of Contents",
   "title_sidebar": "Contents",
   "toc_cell": false,
   "toc_position": {},
   "toc_section_display": true,
   "toc_window_display": false
  }
 },
 "nbformat": 4,
 "nbformat_minor": 5
}
